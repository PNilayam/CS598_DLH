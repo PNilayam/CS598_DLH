{
 "metadata": {
  "language_info": {
   "codemirror_mode": {
    "name": "ipython",
    "version": 3
   },
   "file_extension": ".py",
   "mimetype": "text/x-python",
   "name": "python",
   "nbconvert_exporter": "python",
   "pygments_lexer": "ipython3",
   "version": "3.6.8"
  },
  "orig_nbformat": 2,
  "kernelspec": {
   "name": "python368jvsc74a57bd060aa7568c9db8113868ebef0220b161e96389b06f6ba9eb98d46b6b0f2cf6a72",
   "display_name": "Python 3.6.8 64-bit"
  }
 },
 "nbformat": 4,
 "nbformat_minor": 2,
 "cells": [
  {
   "cell_type": "code",
   "execution_count": 1,
   "metadata": {},
   "outputs": [],
   "source": [
    "import sys\n",
    "sys.path.append(\"../\") # go to parent dir"
   ]
  },
  {
   "cell_type": "code",
   "execution_count": 2,
   "metadata": {},
   "outputs": [],
   "source": [
    "import pandas as pd\n",
    "import sys\n",
    "import spacy\n",
    "import re\n",
    "import time\n",
    "import scispacy\n",
    "import glob\n",
    "import os\n",
    "from tqdm import tqdm\n",
    "tqdm.pandas()\n",
    "from note_processing.heuristic_tokenize import sent_tokenize_rules "
   ]
  },
  {
   "cell_type": "code",
   "execution_count": 3,
   "metadata": {},
   "outputs": [
    {
     "output_type": "stream",
     "name": "stdout",
     "text": [
      "/mnt/data01/mimic-3/benchmark-small/test/345/episode1_notes_BioSentVec.parquet\n",
      "                CATEGORY                 DESCRIPTION  \\\n",
      "Hours                                                  \n",
      "0.201111       Radiology         CHEST (PORTABLE AP)   \n",
      "1.034444       Radiology  CHEST PORT. LINE PLACEMENT   \n",
      "1.967778       Radiology  CHEST PORT. LINE PLACEMENT   \n",
      "7.351111   Nursing/other                      Report   \n",
      "7.584444   Nursing/other                      Report   \n",
      "19.801111      Radiology  CHEST PORT. LINE PLACEMENT   \n",
      "20.067778  Nursing/other                      Report   \n",
      "22.301111  Nursing/other                      Report   \n",
      "23.434444      Radiology    MR HEAD W & W/O CONTRAST   \n",
      "28.867778  Nursing/other                      Report   \n",
      "39.117778      Radiology         CHEST (PORTABLE AP)   \n",
      "41.634444      Radiology         CHEST (PORTABLE AP)   \n",
      "43.567778  Nursing/other                      Report   \n",
      "44.634444  Nursing/other                      Report   \n",
      "53.917778      Radiology         CHEST (PORTABLE AP)   \n",
      "54.817778  Nursing/other                      Report   \n",
      "54.851111  Nursing/other                      Report   \n",
      "68.067778  Nursing/other                      Report   \n",
      "78.467778  Nursing/other                      Report   \n",
      "\n",
      "                                              TEXT_EMBEDDING  \n",
      "Hours                                                         \n",
      "0.201111   [[-0.3167838752269745, 0.027689535170793533, 0...  \n",
      "1.034444   [[-0.5511898398399353, 0.21482233703136444, 0....  \n",
      "1.967778   [[0.20443162322044373, 0.21817845106124878, 0....  \n",
      "7.351111   [[0.021033840253949165, 0.2015647292137146, -0...  \n",
      "7.584444   [[0.10026901960372925, 0.09964610636234283, 0....  \n",
      "19.801111  [[-0.19483409821987152, 0.23214347660541534, 0...  \n",
      "20.067778  [[-0.29828935861587524, -0.2827315926551819, -...  \n",
      "22.301111  [[-1.246159553527832, -0.518220841884613, -1.0...  \n",
      "23.434444  [[-0.19751206040382385, 0.07279469817876816, 0...  \n",
      "28.867778  [[-0.18837279081344604, 0.946139395236969, 0.6...  \n",
      "39.117778  [[0.136173278093338, 0.09822829067707062, -0.1...  \n",
      "41.634444  [[-0.2040742188692093, 0.11726130545139313, 0....  \n",
      "43.567778  [[-0.29828935861587524, -0.2827315926551819, -...  \n",
      "44.634444  [[-1.246159553527832, -0.518220841884613, -1.0...  \n",
      "53.917778  [[-0.26011377573013306, 0.283330500125885, 0.2...  \n",
      "54.817778  [[-0.5388095378875732, -1.217879295349121, -0....  \n",
      "54.851111  [[0.0, 0.0, 0.0, 0.0, 0.0, 0.0, 0.0, 0.0, 0.0,...  \n",
      "68.067778  [[-0.6815481185913086, 0.09789058566093445, -0...  \n",
      "78.467778  [[-0.5388095378875732, -1.217879295349121, -0....  \n",
      "             CATEGORY DESCRIPTION  \\\n",
      "count              19          19   \n",
      "unique              2           4   \n",
      "top     Nursing/other      Report   \n",
      "freq               11          11   \n",
      "\n",
      "                                           TEXT_EMBEDDING  \n",
      "count                                                  19  \n",
      "unique                                                 19  \n",
      "top     [[-1.246159553527832, -0.518220841884613, -1.0...  \n",
      "freq                                                    1  \n"
     ]
    }
   ],
   "source": [
    "import pandas as pd\n",
    "filename = \"/mnt/data01/mimic-3/benchmark-small/test/345/episode1_notes_BioSentVec.parquet\"\n",
    "df = pd.read_parquet(filename)\n",
    "print(filename)\n",
    "print(df.head(20))\n",
    "print(df.describe(include=\"all\"))"
   ]
  },
  {
   "cell_type": "code",
   "execution_count": 8,
   "metadata": {},
   "outputs": [
    {
     "output_type": "execute_result",
     "data": {
      "text/plain": [
       "1739"
      ]
     },
     "metadata": {},
     "execution_count": 8
    }
   ],
   "source": [
    "from sys import getsizeof\n",
    "getsizeof(df)\n",
    "getsizeof"
   ]
  },
  {
   "cell_type": "code",
   "execution_count": 26,
   "metadata": {},
   "outputs": [
    {
     "output_type": "stream",
     "name": "stderr",
     "text": [
      "Load note files: 100%|██████████| 950/950 [00:00<00:00, 249598.40it/s]\n",
      "Total note files: 950\n",
      "Total notes: 950\n",
      "\n"
     ]
    },
    {
     "output_type": "execute_result",
     "data": {
      "text/plain": [
       "                                                        0             1\n",
       "count                                                 950  9.500000e+02\n",
       "unique                                                950           NaN\n",
       "top     /mnt/data01/mimic-3/benchmark-notes/test/20181...           NaN\n",
       "freq                                                    1           NaN\n",
       "mean                                                  NaN  1.434428e+06\n",
       "std                                                   NaN  2.022282e+06\n",
       "min                                                   NaN  1.534300e+04\n",
       "25%                                                   NaN  4.392540e+05\n",
       "50%                                                   NaN  8.442175e+05\n",
       "75%                                                   NaN  1.588990e+06\n",
       "max                                                   NaN  2.921244e+07"
      ],
      "text/html": "<div>\n<style scoped>\n    .dataframe tbody tr th:only-of-type {\n        vertical-align: middle;\n    }\n\n    .dataframe tbody tr th {\n        vertical-align: top;\n    }\n\n    .dataframe thead th {\n        text-align: right;\n    }\n</style>\n<table border=\"1\" class=\"dataframe\">\n  <thead>\n    <tr style=\"text-align: right;\">\n      <th></th>\n      <th>0</th>\n      <th>1</th>\n    </tr>\n  </thead>\n  <tbody>\n    <tr>\n      <th>count</th>\n      <td>950</td>\n      <td>9.500000e+02</td>\n    </tr>\n    <tr>\n      <th>unique</th>\n      <td>950</td>\n      <td>NaN</td>\n    </tr>\n    <tr>\n      <th>top</th>\n      <td>/mnt/data01/mimic-3/benchmark-notes/test/20181...</td>\n      <td>NaN</td>\n    </tr>\n    <tr>\n      <th>freq</th>\n      <td>1</td>\n      <td>NaN</td>\n    </tr>\n    <tr>\n      <th>mean</th>\n      <td>NaN</td>\n      <td>1.434428e+06</td>\n    </tr>\n    <tr>\n      <th>std</th>\n      <td>NaN</td>\n      <td>2.022282e+06</td>\n    </tr>\n    <tr>\n      <th>min</th>\n      <td>NaN</td>\n      <td>1.534300e+04</td>\n    </tr>\n    <tr>\n      <th>25%</th>\n      <td>NaN</td>\n      <td>4.392540e+05</td>\n    </tr>\n    <tr>\n      <th>50%</th>\n      <td>NaN</td>\n      <td>8.442175e+05</td>\n    </tr>\n    <tr>\n      <th>75%</th>\n      <td>NaN</td>\n      <td>1.588990e+06</td>\n    </tr>\n    <tr>\n      <th>max</th>\n      <td>NaN</td>\n      <td>2.921244e+07</td>\n    </tr>\n  </tbody>\n</table>\n</div>"
     },
     "metadata": {},
     "execution_count": 26
    }
   ],
   "source": [
    "all_files = []\n",
    "\n",
    "for path in MIMIC_NOTES_PATHS:\n",
    "    files = glob.glob(path + \"/*/*_notes_bert.parquet\")\n",
    "    all_files += files\n",
    "\n",
    "print(f\"\\nTotal note files: {len(all_files)}\")\n",
    "\n",
    "li = []\n",
    "\n",
    "for filename in tqdm(all_files, desc=\"Load note files\"):\n",
    "    li.append((filename, os.path.getsize(filename)))\n",
    "\n",
    "file_sizes = pd.DataFrame(li)\n",
    "file_sizes.describe(include=\"all\")\n",
    "\n",
    "print(f\"Total notes: {len(file_sizes)}\")\n",
    "\n",
    "file_sizes.describe(include=\"all\")"
   ]
  },
  {
   "cell_type": "code",
   "execution_count": null,
   "metadata": {},
   "outputs": [],
   "source": []
  }
 ]
}